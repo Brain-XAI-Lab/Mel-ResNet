{
 "cells": [
  {
   "cell_type": "code",
   "id": "initial_id",
   "metadata": {
    "collapsed": true,
    "ExecuteTime": {
     "end_time": "2024-07-08T01:48:14.506502Z",
     "start_time": "2024-07-08T01:48:11.169789Z"
    }
   },
   "source": [
    "import numpy as np\n",
    "import mne\n",
    "import torch\n",
    "import torch.nn as nn\n",
    "import os\n",
    "from utils import *\n",
    "from Preprocessing.temp_preprocessing import preprocess_audio"
   ],
   "outputs": [],
   "execution_count": 1
  },
  {
   "metadata": {},
   "cell_type": "code",
   "outputs": [],
   "execution_count": null,
   "source": [
    "eeg_file = '/Users/imdohyeon/Library/CloudStorage/GoogleDrive-dhlim1598@gmail.com/공유 드라이브/4N_PKNU/BXAI/BMI/Mel-ResNet/Voice/Raw'\n",
    "model_path = '/Users/imdohyeon/Documents/PythonWorkspace/Mel-ResNet/Model/'  # not completed yet"
   ],
   "id": "eed019e92a6fea68"
  }
 ],
 "metadata": {
  "kernelspec": {
   "display_name": "Python 3",
   "language": "python",
   "name": "python3"
  },
  "language_info": {
   "codemirror_mode": {
    "name": "ipython",
    "version": 2
   },
   "file_extension": ".py",
   "mimetype": "text/x-python",
   "name": "python",
   "nbconvert_exporter": "python",
   "pygments_lexer": "ipython2",
   "version": "2.7.6"
  }
 },
 "nbformat": 4,
 "nbformat_minor": 5
}

{
 "cells": [
  {
   "cell_type": "code",
   "id": "initial_id",
   "metadata": {
    "collapsed": true,
    "ExecuteTime": {
     "end_time": "2024-07-06T05:51:29.558837Z",
     "start_time": "2024-07-06T05:51:28.215164Z"
    }
   },
   "source": [
    "from augment import *\n",
    "import librosa\n",
    "import os\n",
    "from torch.utils.data import DataLoader"
   ],
   "outputs": [],
   "execution_count": 1
  },
  {
   "metadata": {
    "ExecuteTime": {
     "end_time": "2024-07-06T05:51:29.562500Z",
     "start_time": "2024-07-06T05:51:29.560159Z"
    }
   },
   "cell_type": "code",
   "source": [
    "input_dir = '/Users/imdohyeon/Library/CloudStorage/GoogleDrive-dhlim1598@gmail.com/공유 드라이브/4N_PKNU/BXAI/BMI/Mel-ResNet/Raw'\n",
    "output_dir = '/Users/imdohyeon/Library/CloudStorage/GoogleDrive-dhlim1598@gmail.com/공유 드라이브/4N_PKNU/BXAI/BMI/Mel-ResNet/Augmented'\n",
    "os.makedirs(output_dir, exist_ok=True)"
   ],
   "id": "b0b001e0ec37f7f6",
   "outputs": [],
   "execution_count": 2
  },
  {
   "metadata": {
    "ExecuteTime": {
     "end_time": "2024-07-06T05:51:41.691165Z",
     "start_time": "2024-07-06T05:51:29.563299Z"
    }
   },
   "cell_type": "code",
   "source": [
    "file_paths = [os.path.join(root, file)\n",
    "              for root, _, files in os.walk(input_dir)\n",
    "              for file in files if file.endswith('.wav')]\n",
    "\n",
    "dataset = AudioDataset(file_paths)\n",
    "dataloader = DataLoader(dataset, batch_size=1, shuffle=False, num_workers=4)\n",
    "\n",
    "for data, sr, base_filename, class_name in dataloader:\n",
    "    data = data[0].numpy()  # Batch size is 1, so get the first element and convert to numpy array\n",
    "    sr = sr[0].item()  # Unpack the batch\n",
    "    base_filename = base_filename[0]  # Unpack the batch\n",
    "    class_name = class_name[0]  # Unpack the batch\n",
    "    augment_and_save(data, sr, base_filename, class_name, output_dir)"
   ],
   "id": "a1c2627d42d276bf",
   "outputs": [],
   "execution_count": 3
  },
  {
   "metadata": {
    "ExecuteTime": {
     "end_time": "2024-07-06T05:51:41.694218Z",
     "start_time": "2024-07-06T05:51:41.692431Z"
    }
   },
   "cell_type": "code",
   "source": "",
   "id": "ea53081f45cdb8a0",
   "outputs": [],
   "execution_count": 3
  }
 ],
 "metadata": {
  "kernelspec": {
   "display_name": "Python 3",
   "language": "python",
   "name": "python3"
  },
  "language_info": {
   "codemirror_mode": {
    "name": "ipython",
    "version": 2
   },
   "file_extension": ".py",
   "mimetype": "text/x-python",
   "name": "python",
   "nbconvert_exporter": "python",
   "pygments_lexer": "ipython2",
   "version": "2.7.6"
  }
 },
 "nbformat": 4,
 "nbformat_minor": 5
}
